{
 "cells": [
  {
   "attachments": {},
   "cell_type": "markdown",
   "metadata": {},
   "source": [
    "### Environment"
   ]
  },
  {
   "cell_type": "code",
   "execution_count": null,
   "metadata": {},
   "outputs": [],
   "source": [
    "%cd external/YOLOX/\n",
    "%pip install -r requirements.txt && python setup.py develop\n",
    "\n",
    "%cd ../external/deep-person-reid/\n",
    "%pip install -r requirements.txt && python setup.py develop\n",
    "\n",
    "%cd ../external/fast_reid/\n",
    "%pip install -r docs/requirements.txt\n"
   ]
  },
  {
   "cell_type": "code",
   "execution_count": null,
   "metadata": {},
   "outputs": [],
   "source": [
    "%mv /home/Deep-OC-SORT/external/weights/* /home/share/model/DeepOC-SORT/"
   ]
  },
  {
   "attachments": {},
   "cell_type": "markdown",
   "metadata": {},
   "source": [
    "### Data Preparation"
   ]
  },
  {
   "cell_type": "code",
   "execution_count": null,
   "metadata": {},
   "outputs": [],
   "source": [
    "!unzip /home/share/data_warehouse/MOTChallenge/MOT17-FRCNN.zip -d /home/share/datasets/mot\n",
    "!unzip /home/share/data_warehouse/MOTChallenge/MOT20.zip -d /home/share/datasets"
   ]
  },
  {
   "cell_type": "code",
   "execution_count": null,
   "metadata": {},
   "outputs": [],
   "source": [
    "# 转为COCO格式\n",
    "# replace \"dance\" with mot17/mot20 for others\n",
    "!python data/tools/convert_dance_to_coco.py "
   ]
  },
  {
   "attachments": {},
   "cell_type": "markdown",
   "metadata": {},
   "source": [
    "### Evaluate"
   ]
  },
  {
   "cell_type": "code",
   "execution_count": null,
   "metadata": {},
   "outputs": [],
   "source": [
    "%exp=baseline\n",
    "# Flags to disable all the new changes\n",
    "!python main.py --exp_name $exp --post --emb_off --cmc_off --aw_off --new_kf_off --grid_off --dataset mot17\n",
    "!python main.py --exp_name $exp --post --emb_off --cmc_off --aw_off --new_kf_off --grid_off -dataset mot20 --track_thresh 0.4\n",
    "!python main.py --exp_name $exp --post --emb_off --cmc_off --aw_off --new_kf_off --grid_off --dataset dance --aspect_ratio_thresh 1000"
   ]
  },
  {
   "cell_type": "code",
   "execution_count": null,
   "metadata": {},
   "outputs": [],
   "source": [
    "%exp=best_paper_ablations\n",
    "!python main.py --exp_name $exp --post --grid_off --new_kf_off --dataset mot17 --w_assoc_emb 0.75 --aw_param 0.5\n",
    "!python main.py --exp_name $exp --post --grid_off --new_kf_off --dataset mot20 --track_thresh 0.4 --w_assoc_emb 0.75 --aw_param 0.5\n",
    "!python main.py --exp_name $exp --post --grid_off --new_kf_off --dataset dance --aspect_ratio_thresh 1000 --w_assoc_emb 1.25 --aw_param 1"
   ]
  },
  {
   "cell_type": "code",
   "execution_count": 10,
   "metadata": {},
   "outputs": [
    {
     "name": "stdout",
     "output_type": "stream",
     "text": [
      "\n",
      "Eval Config:\n",
      "USE_PARALLEL         : False                         \n",
      "NUM_PARALLEL_CORES   : 8                             \n",
      "BREAK_ON_ERROR       : True                          \n",
      "RETURN_ON_ERROR      : False                         \n",
      "LOG_ON_ERROR         : /home/Deep-OC-SORT/external/TrackEval/error_log.txt\n",
      "PRINT_RESULTS        : True                          \n",
      "PRINT_ONLY_COMBINED  : False                         \n",
      "PRINT_CONFIG         : True                          \n",
      "TIME_PROGRESS        : True                          \n",
      "DISPLAY_LESS_PROGRESS : False                         \n",
      "OUTPUT_SUMMARY       : True                          \n",
      "OUTPUT_EMPTY_CLASSES : True                          \n",
      "OUTPUT_DETAILED      : True                          \n",
      "PLOT_CURVES          : True                          \n",
      "\n",
      "MotChallenge2DBox Config:\n",
      "PRINT_CONFIG         : True                          \n",
      "GT_FOLDER            : results/gt/                   \n",
      "TRACKERS_FOLDER      : results/trackers/             \n",
      "OUTPUT_FOLDER        : None                          \n",
      "TRACKERS_TO_EVAL     : ['sa_aw_ablations']           \n",
      "CLASSES_TO_EVAL      : ['pedestrian']                \n",
      "BENCHMARK            : MOT17                         \n",
      "SPLIT_TO_EVAL        : val                           \n",
      "INPUT_AS_ZIP         : False                         \n",
      "DO_PREPROC           : True                          \n",
      "TRACKER_SUB_FOLDER   : data                          \n",
      "OUTPUT_SUB_FOLDER    :                               \n",
      "TRACKER_DISPLAY_NAMES : None                          \n",
      "SEQMAP_FOLDER        : None                          \n",
      "SEQMAP_FILE          : None                          \n",
      "SEQ_INFO             : None                          \n",
      "GT_LOC_FORMAT        : {gt_folder}/{seq}/gt/gt.txt   \n",
      "SKIP_SPLIT_FOL       : False                         \n",
      "\n",
      "Identity Config:\n",
      "METRICS              : ['HOTA', 'MOTA', 'Identity']  \n",
      "THRESHOLD            : 0.5                           \n",
      "PRINT_CONFIG         : True                          \n",
      "\n",
      "Evaluating 1 tracker(s) on 7 sequence(s) for 1 class(es) on MotChallenge2DBox dataset using the following metrics: HOTA, Identity, Count\n",
      "\n",
      "\n",
      "Evaluating sa_aw_ablations\n",
      "\n",
      "    MotChallenge2DBox.get_raw_seq_data(sa_aw_ablations, MOT17-02-FRCNN)    0.0731 sec\n",
      "    MotChallenge2DBox.get_preprocessed_seq_data(pedestrian)                0.0493 sec\n",
      "    HOTA.eval_sequence()                                                   0.0973 sec\n",
      "    Identity.eval_sequence()                                               0.0039 sec\n",
      "    Count.eval_sequence()                                                  0.0000 sec\n",
      "1 eval_sequence(MOT17-02-FRCNN, sa_aw_ablations)                         0.2243 sec\n",
      "    MotChallenge2DBox.get_raw_seq_data(sa_aw_ablations, MOT17-04-FRCNN)    0.2213 sec\n",
      "    MotChallenge2DBox.get_preprocessed_seq_data(pedestrian)                0.1093 sec\n",
      "    HOTA.eval_sequence()                                                   0.2037 sec\n",
      "    Identity.eval_sequence()                                               0.0079 sec\n",
      "    Count.eval_sequence()                                                  0.0000 sec\n",
      "2 eval_sequence(MOT17-04-FRCNN, sa_aw_ablations)                         0.5434 sec\n",
      "    MotChallenge2DBox.get_raw_seq_data(sa_aw_ablations, MOT17-05-FRCNN)    0.0305 sec\n",
      "    MotChallenge2DBox.get_preprocessed_seq_data(pedestrian)                0.0608 sec\n",
      "    HOTA.eval_sequence()                                                   0.1160 sec\n",
      "    Identity.eval_sequence()                                               0.0039 sec\n",
      "    Count.eval_sequence()                                                  0.0000 sec\n",
      "3 eval_sequence(MOT17-05-FRCNN, sa_aw_ablations)                         0.2120 sec\n",
      "    MotChallenge2DBox.get_raw_seq_data(sa_aw_ablations, MOT17-09-FRCNN)    0.0312 sec\n",
      "    MotChallenge2DBox.get_preprocessed_seq_data(pedestrian)                0.0389 sec\n",
      "    HOTA.eval_sequence()                                                   0.0746 sec\n",
      "    Identity.eval_sequence()                                               0.0025 sec\n",
      "    Count.eval_sequence()                                                  0.0000 sec\n",
      "4 eval_sequence(MOT17-09-FRCNN, sa_aw_ablations)                         0.1477 sec\n",
      "    MotChallenge2DBox.get_raw_seq_data(sa_aw_ablations, MOT17-10-FRCNN)    0.0392 sec\n",
      "    MotChallenge2DBox.get_preprocessed_seq_data(pedestrian)                0.0502 sec\n",
      "    HOTA.eval_sequence()                                                   0.0958 sec\n",
      "    Identity.eval_sequence()                                               0.0032 sec\n",
      "    Count.eval_sequence()                                                  0.0000 sec\n",
      "5 eval_sequence(MOT17-10-FRCNN, sa_aw_ablations)                         0.1891 sec\n",
      "    MotChallenge2DBox.get_raw_seq_data(sa_aw_ablations, MOT17-11-FRCNN)    0.0369 sec\n",
      "    MotChallenge2DBox.get_preprocessed_seq_data(pedestrian)                0.0663 sec\n",
      "    HOTA.eval_sequence()                                                   0.1309 sec\n",
      "    Identity.eval_sequence()                                               0.0043 sec\n",
      "    Count.eval_sequence()                                                  0.0000 sec\n",
      "6 eval_sequence(MOT17-11-FRCNN, sa_aw_ablations)                         0.2391 sec\n",
      "    MotChallenge2DBox.get_raw_seq_data(sa_aw_ablations, MOT17-13-FRCNN)    0.0330 sec\n",
      "    MotChallenge2DBox.get_preprocessed_seq_data(pedestrian)                0.0563 sec\n",
      "    HOTA.eval_sequence()                                                   0.1038 sec\n",
      "    Identity.eval_sequence()                                               0.0035 sec\n",
      "    Count.eval_sequence()                                                  0.0000 sec\n",
      "7 eval_sequence(MOT17-13-FRCNN, sa_aw_ablations)                         0.1974 sec\n",
      "\n",
      "All sequences for sa_aw_ablations finished in 1.75 seconds\n",
      "\n",
      "HOTA: sa_aw_ablations-pedestrian   HOTA      DetA      AssA      DetRe     DetPr     AssRe     AssPr     LocA      RHOTA     HOTA(0)   LocA(0)   HOTALocA(0)\n",
      "MOT17-02-FRCNN                     44.129    44.766    43.945    47.304    81.323    47.442    75.437    85.19     45.492    52.388    80.711    42.283    \n",
      "MOT17-04-FRCNN                     77.737    76.598    79.237    81.001    87.329    82.694    88.052    88.637    80.076    88.636    86.899    77.023    \n",
      "MOT17-05-FRCNN                     59.392    59.754    59.181    62.626    83.262    69.656    74.474    85.128    60.874    71.57     82.519    59.059    \n",
      "MOT17-09-FRCNN                     62.637    65.953    59.531    67.966    87.825    71.569    71.557    87.514    63.6      72.867    85.991    62.659    \n",
      "MOT17-10-FRCNN                     55.713    51.396    60.732    53.897    79.332    63.942    79.763    81.925    57.181    70.728    78.196    55.306    \n",
      "MOT17-11-FRCNN                     69.028    63.904    74.637    69.664    84.025    78.302    89.404    89.583    72.104    77.72     88.188    68.539    \n",
      "MOT17-13-FRCNN                     65.075    61.835    68.637    64.545    83.554    72.339    84.507    84.728    66.555    79.314    82.117    65.13     \n",
      "COMBINED                           67.056    64.321    70.345    68.089    85.07     74.742    84.519    87.177    69.148    77.863    84.773    66.007    \n",
      "\n",
      "Identity: sa_aw_ablations-pedestrianIDF1      IDR       IDP       IDTP      IDFN      IDFP      \n",
      "MOT17-02-FRCNN                     55.148    43.613    74.978    4309      5571      1438      \n",
      "MOT17-04-FRCNN                     89.688    86.438    93.191    20899     3279      1527      \n",
      "MOT17-05-FRCNN                     75.043    65.743    87.406    2207      1150      318       \n",
      "MOT17-09-FRCNN                     74.682    66.238    85.592    1907      972       321       \n",
      "MOT17-10-FRCNN                     74.475    62.536    92.048    3704      2219      320       \n",
      "MOT17-11-FRCNN                     81.336    74.386    89.72     3360      1157      385       \n",
      "MOT17-13-FRCNN                     83.661    74.144    95.98     2340      816       98        \n",
      "COMBINED                           79.828    71.861    89.783    38726     15164     4407      \n",
      "\n",
      "Count: sa_aw_ablations-pedestrian  Dets      GT_Dets   IDs       GT_IDs    \n",
      "MOT17-02-FRCNN                     5747      9880      85        53        \n",
      "MOT17-04-FRCNN                     22426     24178     92        69        \n",
      "MOT17-05-FRCNN                     2525      3357      59        71        \n",
      "MOT17-09-FRCNN                     2228      2879      18        22        \n",
      "MOT17-10-FRCNN                     4024      5923      42        36        \n",
      "MOT17-11-FRCNN                     3745      4517      56        44        \n",
      "MOT17-13-FRCNN                     2438      3156      41        44        \n",
      "COMBINED                           43133     53890     393       339       \n",
      "\n",
      "Timing analysis:\n",
      "MotChallenge2DBox.get_raw_seq_data                                     0.4651 sec\n",
      "MotChallenge2DBox.get_preprocessed_seq_data                            0.4310 sec\n",
      "HOTA.eval_sequence                                                     0.8222 sec\n",
      "Identity.eval_sequence                                                 0.0293 sec\n",
      "Count.eval_sequence                                                    0.0000 sec\n",
      "eval_sequence                                                          1.7530 sec\n",
      "Evaluator.evaluate                                                     2.4902 sec\n"
     ]
    }
   ],
   "source": [
    "!python external/TrackEval/scripts/run_mot_challenge.py \\\n",
    "  --SPLIT_TO_EVAL val \\\n",
    "  --METRICS HOTA MOTA Identity \\\n",
    "  --TRACKERS_TO_EVAL sa_aw_ablations \\\n",
    "  --GT_FOLDER results/gt/ \\\n",
    "  --TRACKERS_FOLDER results/trackers/ \\\n",
    "  --BENCHMARK MOT17"
   ]
  },
  {
   "cell_type": "markdown",
   "metadata": {},
   "source": [
    "### Test"
   ]
  },
  {
   "cell_type": "code",
   "execution_count": null,
   "metadata": {},
   "outputs": [],
   "source": [
    "!python main.py --exp_name DeepOC_mot17-test --dataset mot17 --test_dataset"
   ]
  },
  {
   "attachments": {},
   "cell_type": "markdown",
   "metadata": {},
   "source": [
    "--"
   ]
  },
  {
   "cell_type": "code",
   "execution_count": 6,
   "metadata": {},
   "outputs": [
    {
     "name": "stdout",
     "output_type": "stream",
     "text": [
      "(1, 3)\n",
      "[[3 6 6]]\n",
      "(4, 3)\n",
      "[[3 6 6]\n",
      " [3 6 6]\n",
      " [3 6 6]\n",
      " [3 6 6]]\n"
     ]
    }
   ],
   "source": [
    "import numpy as np\n",
    "\n",
    "matrix = np.array([[0, 2, 3],\n",
    "                   [2, 0, 6],\n",
    "                   [3, 6, 0]])\n",
    "matrix2 = np.expand_dims(np.max(matrix, axis=1), axis=0) \n",
    "print(matrix2.shape)\n",
    "print(matrix2)\n",
    "\n",
    "matrix2 = matrix2.repeat(4, axis=0)\n",
    "print(matrix2.shape)\n",
    "print(matrix2)"
   ]
  }
 ],
 "metadata": {
  "kernelspec": {
   "display_name": "base",
   "language": "python",
   "name": "python3"
  },
  "language_info": {
   "codemirror_mode": {
    "name": "ipython",
    "version": 3
   },
   "file_extension": ".py",
   "mimetype": "text/x-python",
   "name": "python",
   "nbconvert_exporter": "python",
   "pygments_lexer": "ipython3",
   "version": "3.7.12"
  },
  "orig_nbformat": 4
 },
 "nbformat": 4,
 "nbformat_minor": 2
}
